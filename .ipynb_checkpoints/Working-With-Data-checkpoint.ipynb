{
 "cells": [
  {
   "cell_type": "code",
   "execution_count": 1,
   "metadata": {},
   "outputs": [
    {
     "data": {
      "text/plain": [
       "'Shikha Saxena is student'"
      ]
     },
     "execution_count": 1,
     "metadata": {},
     "output_type": "execute_result"
    }
   ],
   "source": [
    "\" \".join([\"Shikha\",\"Saxena\",\"is\",\"student\"])\n"
   ]
  },
  {
   "cell_type": "code",
   "execution_count": 2,
   "metadata": {},
   "outputs": [
    {
     "data": {
      "text/plain": [
       "'Shikha.Saxena.is.student'"
      ]
     },
     "execution_count": 2,
     "metadata": {},
     "output_type": "execute_result"
    }
   ],
   "source": [
    "\".\".join([\"Shikha\",\"Saxena\",\"is\",\"student\"])"
   ]
  },
  {
   "cell_type": "code",
   "execution_count": 6,
   "metadata": {},
   "outputs": [
    {
     "data": {
      "text/plain": [
       "'hello shikha'"
      ]
     },
     "execution_count": 6,
     "metadata": {},
     "output_type": "execute_result"
    }
   ],
   "source": [
    "'    hello shikha \\n'.strip()\n"
   ]
  },
  {
   "cell_type": "code",
   "execution_count": 12,
   "metadata": {},
   "outputs": [
    {
     "data": {
      "text/plain": [
       "'elloshikha'"
      ]
     },
     "execution_count": 12,
     "metadata": {},
     "output_type": "execute_result"
    }
   ],
   "source": [
    "'helloshikha'.strip('shikh')  #Why not removing Shikh"
   ]
  },
  {
   "cell_type": "code",
   "execution_count": 17,
   "metadata": {},
   "outputs": [],
   "source": [
    "a=\"Hi\""
   ]
  },
  {
   "cell_type": "code",
   "execution_count": 18,
   "metadata": {},
   "outputs": [],
   "source": [
    "b=\"Shikha\""
   ]
  },
  {
   "cell_type": "code",
   "execution_count": 19,
   "metadata": {},
   "outputs": [],
   "source": [
    "c=\"Whats the time?\""
   ]
  },
  {
   "cell_type": "code",
   "execution_count": 20,
   "metadata": {},
   "outputs": [
    {
     "data": {
      "text/plain": [
       "'I wanted to ask time to her so said: Hi Shikha Whats the time?'"
      ]
     },
     "execution_count": 20,
     "metadata": {},
     "output_type": "execute_result"
    }
   ],
   "source": [
    "\"I wanted to ask time to her so said: %s %s %s\" %(a,b,c)"
   ]
  },
  {
   "cell_type": "code",
   "execution_count": 21,
   "metadata": {},
   "outputs": [
    {
     "data": {
      "text/plain": [
       "'I answered, its 3 Monday'"
      ]
     },
     "execution_count": 21,
     "metadata": {},
     "output_type": "execute_result"
    }
   ],
   "source": [
    "\"I answered, its %d %s\"%(3,\"Monday\")"
   ]
  },
  {
   "cell_type": "code",
   "execution_count": 25,
   "metadata": {},
   "outputs": [],
   "source": [
    "L=range(15)"
   ]
  },
  {
   "cell_type": "code",
   "execution_count": 26,
   "metadata": {},
   "outputs": [
    {
     "data": {
      "text/plain": [
       "range(0, 15)"
      ]
     },
     "execution_count": 26,
     "metadata": {},
     "output_type": "execute_result"
    }
   ],
   "source": [
    "L"
   ]
  },
  {
   "cell_type": "code",
   "execution_count": 27,
   "metadata": {},
   "outputs": [
    {
     "data": {
      "text/plain": [
       "[0, 1, 2, 3, 4, 5, 6, 7, 8, 9, 10, 11, 12, 13, 14]"
      ]
     },
     "execution_count": 27,
     "metadata": {},
     "output_type": "execute_result"
    }
   ],
   "source": [
    "[x for x in L]"
   ]
  },
  {
   "cell_type": "code",
   "execution_count": 32,
   "metadata": {},
   "outputs": [
    {
     "ename": "SyntaxError",
     "evalue": "invalid syntax (<ipython-input-32-66c4f030d205>, line 1)",
     "output_type": "error",
     "traceback": [
      "\u001b[0;36m  File \u001b[0;32m\"<ipython-input-32-66c4f030d205>\"\u001b[0;36m, line \u001b[0;32m1\u001b[0m\n\u001b[0;31m    x*x for x in L\u001b[0m\n\u001b[0m          ^\u001b[0m\n\u001b[0;31mSyntaxError\u001b[0m\u001b[0;31m:\u001b[0m invalid syntax\n"
     ]
    }
   ],
   "source": [
    "x*x for x in L"
   ]
  },
  {
   "cell_type": "code",
   "execution_count": 29,
   "metadata": {},
   "outputs": [
    {
     "data": {
      "text/plain": [
       "[0, 1, 4, 9, 16, 25, 36, 49, 64, 81, 100, 121, 144, 169, 196]"
      ]
     },
     "execution_count": 29,
     "metadata": {},
     "output_type": "execute_result"
    }
   ],
   "source": [
    "[x*x for x in L]"
   ]
  },
  {
   "cell_type": "code",
   "execution_count": 42,
   "metadata": {},
   "outputs": [
    {
     "data": {
      "text/plain": [
       "[0, 2, 4, 6, 8, 10, 12, 14]"
      ]
     },
     "execution_count": 42,
     "metadata": {},
     "output_type": "execute_result"
    }
   ],
   "source": [
    "[x for x in L if(x%2)==0] #using if inside List comprehension"
   ]
  },
  {
   "cell_type": "code",
   "execution_count": 33,
   "metadata": {},
   "outputs": [],
   "source": [
    "L1 = [\"Shikha\",\"Gita\",\"Rita\",\"Rama\"]"
   ]
  },
  {
   "cell_type": "code",
   "execution_count": 38,
   "metadata": {},
   "outputs": [],
   "source": [
    "L2 = [1,2,3,4] "
   ]
  },
  {
   "cell_type": "code",
   "execution_count": 35,
   "metadata": {},
   "outputs": [
    {
     "data": {
      "text/plain": [
       "<zip at 0x105fe94c8>"
      ]
     },
     "execution_count": 35,
     "metadata": {},
     "output_type": "execute_result"
    }
   ],
   "source": [
    "zip(L1,L2)"
   ]
  },
  {
   "cell_type": "code",
   "execution_count": 39,
   "metadata": {},
   "outputs": [],
   "source": [
    "L3=[3,4,5]"
   ]
  },
  {
   "cell_type": "code",
   "execution_count": 40,
   "metadata": {},
   "outputs": [
    {
     "data": {
      "text/plain": [
       "[4, 6, 8]"
      ]
     },
     "execution_count": 40,
     "metadata": {},
     "output_type": "execute_result"
    }
   ],
   "source": [
    "[x+y for x,y in zip(L2,L3)] #using zip in list comprehension"
   ]
  },
  {
   "cell_type": "code",
   "execution_count": 45,
   "metadata": {},
   "outputs": [
    {
     "data": {
      "text/plain": [
       "[(0, 0), (0, 2), (0, 4), (0, 6), (0, 8)]"
      ]
     },
     "execution_count": 45,
     "metadata": {},
     "output_type": "execute_result"
    }
   ],
   "source": [
    "[(x,y) for x in range(10) for y in range(10) if (x+y%2) ==0] #multiple for in list comprehension"
   ]
  },
  {
   "cell_type": "code",
   "execution_count": 46,
   "metadata": {},
   "outputs": [
    {
     "data": {
      "text/plain": [
       "[(1, 'a'), (2, 'b'), (3, 'c')]"
      ]
     },
     "execution_count": 46,
     "metadata": {},
     "output_type": "execute_result"
    }
   ],
   "source": [
    "[(x,y) for x,y in zip([1,2,3],[\"a\",\"b\",\"c\"])]"
   ]
  },
  {
   "cell_type": "code",
   "execution_count": 48,
   "metadata": {},
   "outputs": [],
   "source": [
    "##################### Dictionaries #####################\n",
    "D1 = {\"x\":1,\"y\":2,\"z\":3}"
   ]
  },
  {
   "cell_type": "code",
   "execution_count": 50,
   "metadata": {},
   "outputs": [
    {
     "data": {
      "text/plain": [
       "1"
      ]
     },
     "execution_count": 50,
     "metadata": {},
     "output_type": "execute_result"
    }
   ],
   "source": [
    "D1['x']"
   ]
  },
  {
   "cell_type": "code",
   "execution_count": 51,
   "metadata": {},
   "outputs": [],
   "source": [
    "D2 ={}"
   ]
  },
  {
   "cell_type": "code",
   "execution_count": 52,
   "metadata": {},
   "outputs": [],
   "source": [
    "D2['x'] =9"
   ]
  },
  {
   "cell_type": "code",
   "execution_count": 53,
   "metadata": {},
   "outputs": [
    {
     "data": {
      "text/plain": [
       "9"
      ]
     },
     "execution_count": 53,
     "metadata": {},
     "output_type": "execute_result"
    }
   ],
   "source": [
    "D2['x'] "
   ]
  },
  {
   "cell_type": "code",
   "execution_count": 54,
   "metadata": {},
   "outputs": [],
   "source": [
    "D2[8]=7"
   ]
  },
  {
   "cell_type": "code",
   "execution_count": 55,
   "metadata": {},
   "outputs": [],
   "source": [
    "D2[(1,2)]='you'"
   ]
  },
  {
   "cell_type": "code",
   "execution_count": 56,
   "metadata": {},
   "outputs": [
    {
     "data": {
      "text/plain": [
       "{'x': 9, 8: 7, (1, 2): 'you'}"
      ]
     },
     "execution_count": 56,
     "metadata": {},
     "output_type": "execute_result"
    }
   ],
   "source": [
    "D2"
   ]
  },
  {
   "cell_type": "code",
   "execution_count": 57,
   "metadata": {},
   "outputs": [],
   "source": [
    "del D2[8] #delete in Dictionary"
   ]
  },
  {
   "cell_type": "code",
   "execution_count": 58,
   "metadata": {},
   "outputs": [
    {
     "data": {
      "text/plain": [
       "{'x': 9, (1, 2): 'you'}"
      ]
     },
     "execution_count": 58,
     "metadata": {},
     "output_type": "execute_result"
    }
   ],
   "source": [
    "D2"
   ]
  },
  {
   "cell_type": "code",
   "execution_count": 61,
   "metadata": {},
   "outputs": [
    {
     "data": {
      "text/plain": [
       "dict_keys(['x', (1, 2)])"
      ]
     },
     "execution_count": 61,
     "metadata": {},
     "output_type": "execute_result"
    }
   ],
   "source": [
    "D2.keys()"
   ]
  },
  {
   "cell_type": "code",
   "execution_count": 59,
   "metadata": {},
   "outputs": [
    {
     "data": {
      "text/plain": [
       "dict_values([9, 'you'])"
      ]
     },
     "execution_count": 59,
     "metadata": {},
     "output_type": "execute_result"
    }
   ],
   "source": [
    "D2.values()"
   ]
  },
  {
   "cell_type": "code",
   "execution_count": 60,
   "metadata": {},
   "outputs": [
    {
     "data": {
      "text/plain": [
       "dict_items([('x', 9), ((1, 2), 'you')])"
      ]
     },
     "execution_count": 60,
     "metadata": {},
     "output_type": "execute_result"
    }
   ],
   "source": [
    "D2.items()"
   ]
  },
  {
   "cell_type": "code",
   "execution_count": 62,
   "metadata": {},
   "outputs": [
    {
     "data": {
      "text/plain": [
       "{'x': 9, (1, 2): 'you'}"
      ]
     },
     "execution_count": 62,
     "metadata": {},
     "output_type": "execute_result"
    }
   ],
   "source": [
    "D2"
   ]
  },
  {
   "cell_type": "code",
   "execution_count": 65,
   "metadata": {},
   "outputs": [
    {
     "name": "stdout",
     "output_type": "stream",
     "text": [
      "x\n",
      "(1, 2)\n"
     ]
    }
   ],
   "source": [
    "for key in D2: print(key)"
   ]
  },
  {
   "cell_type": "code",
   "execution_count": 66,
   "metadata": {},
   "outputs": [
    {
     "data": {
      "text/plain": [
       "True"
      ]
     },
     "execution_count": 66,
     "metadata": {},
     "output_type": "execute_result"
    }
   ],
   "source": [
    "'x' in D2"
   ]
  },
  {
   "cell_type": "code",
   "execution_count": 67,
   "metadata": {},
   "outputs": [
    {
     "data": {
      "text/plain": [
       "9"
      ]
     },
     "execution_count": 67,
     "metadata": {},
     "output_type": "execute_result"
    }
   ],
   "source": [
    "D2.get(\"x\")"
   ]
  },
  {
   "cell_type": "code",
   "execution_count": 68,
   "metadata": {},
   "outputs": [
    {
     "data": {
      "text/plain": [
       "0"
      ]
     },
     "execution_count": 68,
     "metadata": {},
     "output_type": "execute_result"
    }
   ],
   "source": [
    "D2.setdefault('p',0)"
   ]
  },
  {
   "cell_type": "code",
   "execution_count": 69,
   "metadata": {},
   "outputs": [
    {
     "data": {
      "text/plain": [
       "{'x': 9, (1, 2): 'you', 'p': 0}"
      ]
     },
     "execution_count": 69,
     "metadata": {},
     "output_type": "execute_result"
    }
   ],
   "source": [
    "D2"
   ]
  },
  {
   "cell_type": "code",
   "execution_count": 71,
   "metadata": {},
   "outputs": [
    {
     "data": {
      "text/plain": [
       "9"
      ]
     },
     "execution_count": 71,
     "metadata": {},
     "output_type": "execute_result"
    }
   ],
   "source": [
    "D2.setdefault(\"x\",'None')  #return none if x is not found"
   ]
  },
  {
   "cell_type": "code",
   "execution_count": 72,
   "metadata": {},
   "outputs": [
    {
     "data": {
      "text/plain": [
       "{'x': 9, (1, 2): 'you', 'p': 0}"
      ]
     },
     "execution_count": 72,
     "metadata": {},
     "output_type": "execute_result"
    }
   ],
   "source": [
    "D2"
   ]
  },
  {
   "cell_type": "code",
   "execution_count": 76,
   "metadata": {},
   "outputs": [
    {
     "data": {
      "text/plain": [
       "'Hello Shikha'"
      ]
     },
     "execution_count": 76,
     "metadata": {},
     "output_type": "execute_result"
    }
   ],
   "source": [
    "\"Hello %(name)s\"%{'name':\"Shikha\"}"
   ]
  },
  {
   "cell_type": "code",
   "execution_count": 79,
   "metadata": {},
   "outputs": [
    {
     "data": {
      "text/plain": [
       "'Please study without 0 distractions.'"
      ]
     },
     "execution_count": 79,
     "metadata": {},
     "output_type": "execute_result"
    }
   ],
   "source": [
    "\"Please study without %(percentage)d %(something)s.\"%{\"percentage\":0,\"something\":\"distractions\"}"
   ]
  },
  {
   "cell_type": "code",
   "execution_count": 86,
   "metadata": {},
   "outputs": [
    {
     "data": {
      "text/plain": [
       "'you should study with 100 percent concentration.'"
      ]
     },
     "execution_count": 86,
     "metadata": {},
     "output_type": "execute_result"
    }
   ],
   "source": [
    "\"you should study with %(percent)d percent %(something)s.\"%{\"percent\":100,\"something\":\"concentration\"}"
   ]
  },
  {
   "cell_type": "code",
   "execution_count": 87,
   "metadata": {},
   "outputs": [
    {
     "data": {
      "text/plain": [
       "{'__name__': '__main__',\n",
       " '__doc__': 'Automatically created module for IPython interactive environment',\n",
       " '__package__': None,\n",
       " '__loader__': None,\n",
       " '__spec__': None,\n",
       " '__builtin__': <module 'builtins' (built-in)>,\n",
       " '__builtins__': <module 'builtins' (built-in)>,\n",
       " '_ih': ['',\n",
       "  '\" \".join([\"Shikha\",\"Saxena\",\"is\",\"student\"])',\n",
       "  '\".\".join([\"Shikha\",\"Saxena\",\"is\",\"student\"])',\n",
       "  \"'    hello shikha .  '.strip()\\n'    hello shikha .  '.strip('.')\",\n",
       "  \"'    hello shikha .  '.strip('.')\",\n",
       "  \"'    hello shikha .  '.strip('shikh')\",\n",
       "  \"'    hello shikha \\\\n'.strip()\",\n",
       "  \"'    hello shikha'.strip('shikh')\",\n",
       "  \"'    hello shikha'.strip('shikh')\",\n",
       "  \"'helloshikha'.strip('shikh')\",\n",
       "  \"'helloshikha'.strip('hell')\",\n",
       "  \"'helloshikha'.strip('shikh')\",\n",
       "  \"'helloshikha'.strip('shikh')\",\n",
       "  'c=\"Whats the time?\"',\n",
       "  '\"I wanted to ask time to her so said: %s %s %s\" % (a,b,c)',\n",
       "  '\"I wanted to ask time to her so said: %s %s %s\" %(a,b,c)',\n",
       "  '\"I wanted to ask time to her so said: %s %s %s\" %(a,b,c)',\n",
       "  'a=\"Hi\"',\n",
       "  'b=\"Shikha\"',\n",
       "  'c=\"Whats the time?\"',\n",
       "  '\"I wanted to ask time to her so said: %s %s %s\" %(a,b,c)',\n",
       "  '\"I answered, its %d %s\"%(3,\"Monday\")',\n",
       "  'extsort([\"a.py\",\"gigi.py\",\"carol.c\",\"laila.c\",\"fun.txt\",\"office.txt\",\"notes.txt\"]) #sort files based on extension',\n",
       "  \"extsort(['a.py','notes.txt','gigi.py','office.txt','carol.c','laila.c','fun.txt']) #sort files based on extension\",\n",
       "  \"extsort(['a.py','notes.txt','gigi.py','office.txt','carol.c','laila.c','fun.txt']) #sort files based on extension\",\n",
       "  'L=range(15)',\n",
       "  'L',\n",
       "  '[x for x in L]',\n",
       "  'x*x for x in L',\n",
       "  '[x*x for x in L]',\n",
       "  '[x for x in L ifx%2==0]',\n",
       "  '[x for x in L if(x%2==0)]',\n",
       "  'x*x for x in L',\n",
       "  'L1 = [\"Shikha\",\"Gita\",\"Rita\",\"Rama\"]',\n",
       "  'L2 = [1,2,3,4]',\n",
       "  'zip(L1,L2)',\n",
       "  'L2 = [1,2,3,4] L3=[3,4,5]',\n",
       "  'L2 = [1,2,3,4] ,L3=[3,4,5]',\n",
       "  'L2 = [1,2,3,4] ',\n",
       "  'L3=[3,4,5]',\n",
       "  '[x+y for x,y in zip(L2,L3)]',\n",
       "  '[x+y for x in range(10) for y in range(10) if (x+y%2) ==0]',\n",
       "  '[x for x in L if(x%2)==0] #using if inside List comprehension',\n",
       "  '[x+y for x in range(10) for y in range(10) if (x+y%2) ==0] #multiple for in list comprehension',\n",
       "  '[x,y for x in range(10) for y in range(10) if (x+y%2) ==0] #multiple for in list comprehension',\n",
       "  '[(x,y) for x in range(10) for y in range(10) if (x+y%2) ==0] #multiple for in list comprehension',\n",
       "  '[(x,y) for x,y in zip([1,2,3],[\"a\",\"b\",\"c\"])]',\n",
       "  '##################### Dictionaries #####################',\n",
       "  '##################### Dictionaries #####################\\nD1 = {\"x\":1,\"y\":2,\"z\":3}',\n",
       "  'D1[x]',\n",
       "  \"D1['x']\",\n",
       "  'D2 ={}',\n",
       "  \"D2['x'] =9\",\n",
       "  \"D2['x'] \",\n",
       "  'D2[8]=7',\n",
       "  \"D2[(1,2)]='you'\",\n",
       "  'D2',\n",
       "  'del D2[8]',\n",
       "  'D2',\n",
       "  'D2.values()',\n",
       "  'D2.items()',\n",
       "  'D2.keys()',\n",
       "  'D2',\n",
       "  'for key in D2:print key',\n",
       "  'for key in D2: print key',\n",
       "  'for key in D2: print(key)',\n",
       "  \"'x' in D2\",\n",
       "  'D2.get(\"x\")',\n",
       "  \"D2.setdefault('p',0)\",\n",
       "  'D2',\n",
       "  'D2.setdefault(\"x\",default = \\'None\\')  #return none if x is not found',\n",
       "  'D2.setdefault(\"x\",\\'None\\')  #return none if x is not found',\n",
       "  'D2',\n",
       "  '\"Hello %(name)s\",{name:\"Shikha\"}',\n",
       "  '\"Hello %(name)s\",%{name:\"Shikha\"}',\n",
       "  '\"Hello %(name)s\"%{name:\"Shikha\"}',\n",
       "  '\"Hello %(name)s\"%{\\'name\\':\"Shikha\"}',\n",
       "  '\"Please study without %(percentage)d %(something)s\"%{\"percentage\":0,\"something\":\"distractions\"}',\n",
       "  '\"Please study without %(percentage)d %(something)s .\"%{\"percentage\":0,\"something\":\"distractions\"}',\n",
       "  '\"Please study without %(percentage)d %(something)s.\"%{\"percentage\":0,\"something\":\"distractions\"}',\n",
       "  '\"you should study with %(percent)d %(something)s.\"%{\"percent\":100,\"something\":\"concentration\"}',\n",
       "  '\"you should study with %(percent)d percent %(something)s.\"%{\"percent\":100,\"something\":\"concentration\"}',\n",
       "  '\"you should study with %(percent)d\"%\" %(something)s.\"%{\"percent\":100,\"something\":\"concentration\"}',\n",
       "  '\"you should study with %(percent)d \"%\" %(something)s.\"%{\"percent\":100,\"something\":\"concentration\"}',\n",
       "  '\"you should study with %(percent)d % %(something)s.\"%{\"percent\":100,\"something\":\"concentration\"}',\n",
       "  '\"you should study with %(percent)dpercent %(something)s.\"%{\"percent\":100,\"something\":\"concentration\"}',\n",
       "  '\"you should study with %(percent)d percent %(something)s.\"%{\"percent\":100,\"something\":\"concentration\"}',\n",
       "  'globals()'],\n",
       " '_oh': {1: 'Shikha Saxena is student',\n",
       "  2: 'Shikha.Saxena.is.student',\n",
       "  3: '    hello shikha .  ',\n",
       "  4: '    hello shikha .  ',\n",
       "  5: '    hello shikha .  ',\n",
       "  6: 'hello shikha',\n",
       "  7: '    hello shikha',\n",
       "  8: '    hello shikha',\n",
       "  9: 'elloshikha',\n",
       "  10: 'oshikha',\n",
       "  11: 'elloshikha',\n",
       "  12: 'elloshikha',\n",
       "  20: 'I wanted to ask time to her so said: Hi Shikha Whats the time?',\n",
       "  21: 'I answered, its 3 Monday',\n",
       "  26: range(0, 15),\n",
       "  27: [0, 1, 2, 3, 4, 5, 6, 7, 8, 9, 10, 11, 12, 13, 14],\n",
       "  29: [0, 1, 4, 9, 16, 25, 36, 49, 64, 81, 100, 121, 144, 169, 196],\n",
       "  31: [0, 2, 4, 6, 8, 10, 12, 14],\n",
       "  35: <zip at 0x105fe94c8>,\n",
       "  40: [4, 6, 8],\n",
       "  41: [0, 2, 4, 6, 8],\n",
       "  42: [0, 2, 4, 6, 8, 10, 12, 14],\n",
       "  43: [0, 2, 4, 6, 8],\n",
       "  45: [(0, 0), (0, 2), (0, 4), (0, 6), (0, 8)],\n",
       "  46: [(1, 'a'), (2, 'b'), (3, 'c')],\n",
       "  50: 1,\n",
       "  53: 9,\n",
       "  56: {'x': 9, (1, 2): 'you', 'p': 0},\n",
       "  58: {'x': 9, (1, 2): 'you', 'p': 0},\n",
       "  59: dict_values([9, 'you', 0]),\n",
       "  60: dict_items([('x', 9), ((1, 2), 'you'), ('p', 0)]),\n",
       "  61: dict_keys(['x', (1, 2), 'p']),\n",
       "  62: {'x': 9, (1, 2): 'you', 'p': 0},\n",
       "  66: True,\n",
       "  67: 9,\n",
       "  68: 0,\n",
       "  69: {'x': 9, (1, 2): 'you', 'p': 0},\n",
       "  71: 9,\n",
       "  72: {'x': 9, (1, 2): 'you', 'p': 0},\n",
       "  76: 'Hello Shikha',\n",
       "  77: 'Please study without 0 distractions',\n",
       "  78: 'Please study without 0 distractions .',\n",
       "  79: 'Please study without 0 distractions.',\n",
       "  80: 'you should study with 100 concentration.',\n",
       "  81: 'you should study with 100 percent concentration.',\n",
       "  85: 'you should study with 100percent concentration.',\n",
       "  86: 'you should study with 100 percent concentration.'},\n",
       " '_dh': ['/Users/shikha/Documents/PythonPracBook'],\n",
       " 'In': ['',\n",
       "  '\" \".join([\"Shikha\",\"Saxena\",\"is\",\"student\"])',\n",
       "  '\".\".join([\"Shikha\",\"Saxena\",\"is\",\"student\"])',\n",
       "  \"'    hello shikha .  '.strip()\\n'    hello shikha .  '.strip('.')\",\n",
       "  \"'    hello shikha .  '.strip('.')\",\n",
       "  \"'    hello shikha .  '.strip('shikh')\",\n",
       "  \"'    hello shikha \\\\n'.strip()\",\n",
       "  \"'    hello shikha'.strip('shikh')\",\n",
       "  \"'    hello shikha'.strip('shikh')\",\n",
       "  \"'helloshikha'.strip('shikh')\",\n",
       "  \"'helloshikha'.strip('hell')\",\n",
       "  \"'helloshikha'.strip('shikh')\",\n",
       "  \"'helloshikha'.strip('shikh')\",\n",
       "  'c=\"Whats the time?\"',\n",
       "  '\"I wanted to ask time to her so said: %s %s %s\" % (a,b,c)',\n",
       "  '\"I wanted to ask time to her so said: %s %s %s\" %(a,b,c)',\n",
       "  '\"I wanted to ask time to her so said: %s %s %s\" %(a,b,c)',\n",
       "  'a=\"Hi\"',\n",
       "  'b=\"Shikha\"',\n",
       "  'c=\"Whats the time?\"',\n",
       "  '\"I wanted to ask time to her so said: %s %s %s\" %(a,b,c)',\n",
       "  '\"I answered, its %d %s\"%(3,\"Monday\")',\n",
       "  'extsort([\"a.py\",\"gigi.py\",\"carol.c\",\"laila.c\",\"fun.txt\",\"office.txt\",\"notes.txt\"]) #sort files based on extension',\n",
       "  \"extsort(['a.py','notes.txt','gigi.py','office.txt','carol.c','laila.c','fun.txt']) #sort files based on extension\",\n",
       "  \"extsort(['a.py','notes.txt','gigi.py','office.txt','carol.c','laila.c','fun.txt']) #sort files based on extension\",\n",
       "  'L=range(15)',\n",
       "  'L',\n",
       "  '[x for x in L]',\n",
       "  'x*x for x in L',\n",
       "  '[x*x for x in L]',\n",
       "  '[x for x in L ifx%2==0]',\n",
       "  '[x for x in L if(x%2==0)]',\n",
       "  'x*x for x in L',\n",
       "  'L1 = [\"Shikha\",\"Gita\",\"Rita\",\"Rama\"]',\n",
       "  'L2 = [1,2,3,4]',\n",
       "  'zip(L1,L2)',\n",
       "  'L2 = [1,2,3,4] L3=[3,4,5]',\n",
       "  'L2 = [1,2,3,4] ,L3=[3,4,5]',\n",
       "  'L2 = [1,2,3,4] ',\n",
       "  'L3=[3,4,5]',\n",
       "  '[x+y for x,y in zip(L2,L3)]',\n",
       "  '[x+y for x in range(10) for y in range(10) if (x+y%2) ==0]',\n",
       "  '[x for x in L if(x%2)==0] #using if inside List comprehension',\n",
       "  '[x+y for x in range(10) for y in range(10) if (x+y%2) ==0] #multiple for in list comprehension',\n",
       "  '[x,y for x in range(10) for y in range(10) if (x+y%2) ==0] #multiple for in list comprehension',\n",
       "  '[(x,y) for x in range(10) for y in range(10) if (x+y%2) ==0] #multiple for in list comprehension',\n",
       "  '[(x,y) for x,y in zip([1,2,3],[\"a\",\"b\",\"c\"])]',\n",
       "  '##################### Dictionaries #####################',\n",
       "  '##################### Dictionaries #####################\\nD1 = {\"x\":1,\"y\":2,\"z\":3}',\n",
       "  'D1[x]',\n",
       "  \"D1['x']\",\n",
       "  'D2 ={}',\n",
       "  \"D2['x'] =9\",\n",
       "  \"D2['x'] \",\n",
       "  'D2[8]=7',\n",
       "  \"D2[(1,2)]='you'\",\n",
       "  'D2',\n",
       "  'del D2[8]',\n",
       "  'D2',\n",
       "  'D2.values()',\n",
       "  'D2.items()',\n",
       "  'D2.keys()',\n",
       "  'D2',\n",
       "  'for key in D2:print key',\n",
       "  'for key in D2: print key',\n",
       "  'for key in D2: print(key)',\n",
       "  \"'x' in D2\",\n",
       "  'D2.get(\"x\")',\n",
       "  \"D2.setdefault('p',0)\",\n",
       "  'D2',\n",
       "  'D2.setdefault(\"x\",default = \\'None\\')  #return none if x is not found',\n",
       "  'D2.setdefault(\"x\",\\'None\\')  #return none if x is not found',\n",
       "  'D2',\n",
       "  '\"Hello %(name)s\",{name:\"Shikha\"}',\n",
       "  '\"Hello %(name)s\",%{name:\"Shikha\"}',\n",
       "  '\"Hello %(name)s\"%{name:\"Shikha\"}',\n",
       "  '\"Hello %(name)s\"%{\\'name\\':\"Shikha\"}',\n",
       "  '\"Please study without %(percentage)d %(something)s\"%{\"percentage\":0,\"something\":\"distractions\"}',\n",
       "  '\"Please study without %(percentage)d %(something)s .\"%{\"percentage\":0,\"something\":\"distractions\"}',\n",
       "  '\"Please study without %(percentage)d %(something)s.\"%{\"percentage\":0,\"something\":\"distractions\"}',\n",
       "  '\"you should study with %(percent)d %(something)s.\"%{\"percent\":100,\"something\":\"concentration\"}',\n",
       "  '\"you should study with %(percent)d percent %(something)s.\"%{\"percent\":100,\"something\":\"concentration\"}',\n",
       "  '\"you should study with %(percent)d\"%\" %(something)s.\"%{\"percent\":100,\"something\":\"concentration\"}',\n",
       "  '\"you should study with %(percent)d \"%\" %(something)s.\"%{\"percent\":100,\"something\":\"concentration\"}',\n",
       "  '\"you should study with %(percent)d % %(something)s.\"%{\"percent\":100,\"something\":\"concentration\"}',\n",
       "  '\"you should study with %(percent)dpercent %(something)s.\"%{\"percent\":100,\"something\":\"concentration\"}',\n",
       "  '\"you should study with %(percent)d percent %(something)s.\"%{\"percent\":100,\"something\":\"concentration\"}',\n",
       "  'globals()'],\n",
       " 'Out': {1: 'Shikha Saxena is student',\n",
       "  2: 'Shikha.Saxena.is.student',\n",
       "  3: '    hello shikha .  ',\n",
       "  4: '    hello shikha .  ',\n",
       "  5: '    hello shikha .  ',\n",
       "  6: 'hello shikha',\n",
       "  7: '    hello shikha',\n",
       "  8: '    hello shikha',\n",
       "  9: 'elloshikha',\n",
       "  10: 'oshikha',\n",
       "  11: 'elloshikha',\n",
       "  12: 'elloshikha',\n",
       "  20: 'I wanted to ask time to her so said: Hi Shikha Whats the time?',\n",
       "  21: 'I answered, its 3 Monday',\n",
       "  26: range(0, 15),\n",
       "  27: [0, 1, 2, 3, 4, 5, 6, 7, 8, 9, 10, 11, 12, 13, 14],\n",
       "  29: [0, 1, 4, 9, 16, 25, 36, 49, 64, 81, 100, 121, 144, 169, 196],\n",
       "  31: [0, 2, 4, 6, 8, 10, 12, 14],\n",
       "  35: <zip at 0x105fe94c8>,\n",
       "  40: [4, 6, 8],\n",
       "  41: [0, 2, 4, 6, 8],\n",
       "  42: [0, 2, 4, 6, 8, 10, 12, 14],\n",
       "  43: [0, 2, 4, 6, 8],\n",
       "  45: [(0, 0), (0, 2), (0, 4), (0, 6), (0, 8)],\n",
       "  46: [(1, 'a'), (2, 'b'), (3, 'c')],\n",
       "  50: 1,\n",
       "  53: 9,\n",
       "  56: {'x': 9, (1, 2): 'you', 'p': 0},\n",
       "  58: {'x': 9, (1, 2): 'you', 'p': 0},\n",
       "  59: dict_values([9, 'you', 0]),\n",
       "  60: dict_items([('x', 9), ((1, 2), 'you'), ('p', 0)]),\n",
       "  61: dict_keys(['x', (1, 2), 'p']),\n",
       "  62: {'x': 9, (1, 2): 'you', 'p': 0},\n",
       "  66: True,\n",
       "  67: 9,\n",
       "  68: 0,\n",
       "  69: {'x': 9, (1, 2): 'you', 'p': 0},\n",
       "  71: 9,\n",
       "  72: {'x': 9, (1, 2): 'you', 'p': 0},\n",
       "  76: 'Hello Shikha',\n",
       "  77: 'Please study without 0 distractions',\n",
       "  78: 'Please study without 0 distractions .',\n",
       "  79: 'Please study without 0 distractions.',\n",
       "  80: 'you should study with 100 concentration.',\n",
       "  81: 'you should study with 100 percent concentration.',\n",
       "  85: 'you should study with 100percent concentration.',\n",
       "  86: 'you should study with 100 percent concentration.'},\n",
       " 'get_ipython': <bound method InteractiveShell.get_ipython of <ipykernel.zmqshell.ZMQInteractiveShell object at 0x10539df60>>,\n",
       " 'exit': <IPython.core.autocall.ZMQExitAutocall at 0x105e538d0>,\n",
       " 'quit': <IPython.core.autocall.ZMQExitAutocall at 0x105e538d0>,\n",
       " '_': 'you should study with 100 percent concentration.',\n",
       " '__': 'you should study with 100percent concentration.',\n",
       " '___': 'you should study with 100 percent concentration.',\n",
       " '_i': '\"you should study with %(percent)d percent %(something)s.\"%{\"percent\":100,\"something\":\"concentration\"}',\n",
       " '_ii': '\"you should study with %(percent)dpercent %(something)s.\"%{\"percent\":100,\"something\":\"concentration\"}',\n",
       " '_iii': '\"you should study with %(percent)d % %(something)s.\"%{\"percent\":100,\"something\":\"concentration\"}',\n",
       " '_i1': '\" \".join([\"Shikha\",\"Saxena\",\"is\",\"student\"])',\n",
       " '_1': 'Shikha Saxena is student',\n",
       " '_i2': '\".\".join([\"Shikha\",\"Saxena\",\"is\",\"student\"])',\n",
       " '_2': 'Shikha.Saxena.is.student',\n",
       " '_i3': \"'    hello shikha .  '.strip()\\n'    hello shikha .  '.strip('.')\",\n",
       " '_3': '    hello shikha .  ',\n",
       " '_i4': \"'    hello shikha .  '.strip('.')\",\n",
       " '_4': '    hello shikha .  ',\n",
       " '_i5': \"'    hello shikha .  '.strip('shikh')\",\n",
       " '_5': '    hello shikha .  ',\n",
       " '_i6': \"'    hello shikha \\\\n'.strip()\",\n",
       " '_6': 'hello shikha',\n",
       " '_i7': \"'    hello shikha'.strip('shikh')\",\n",
       " '_7': '    hello shikha',\n",
       " '_i8': \"'    hello shikha'.strip('shikh')\",\n",
       " '_8': '    hello shikha',\n",
       " '_i9': \"'helloshikha'.strip('shikh')\",\n",
       " '_9': 'elloshikha',\n",
       " '_i10': \"'helloshikha'.strip('hell')\",\n",
       " '_10': 'oshikha',\n",
       " '_i11': \"'helloshikha'.strip('shikh')\",\n",
       " '_11': 'elloshikha',\n",
       " '_i12': \"'helloshikha'.strip('shikh')\",\n",
       " '_12': 'elloshikha',\n",
       " '_i13': 'c=\"Whats the time?\"',\n",
       " 'c': 'Whats the time?',\n",
       " '_i14': '\"I wanted to ask time to her so said: %s %s %s\" % (a,b,c)',\n",
       " '_i15': '\"I wanted to ask time to her so said: %s %s %s\" %(a,b,c)',\n",
       " '_i16': '\"I wanted to ask time to her so said: %s %s %s\" %(a,b,c)',\n",
       " '_i17': 'a=\"Hi\"',\n",
       " 'a': 'Hi',\n",
       " '_i18': 'b=\"Shikha\"',\n",
       " 'b': 'Shikha',\n",
       " '_i19': 'c=\"Whats the time?\"',\n",
       " '_i20': '\"I wanted to ask time to her so said: %s %s %s\" %(a,b,c)',\n",
       " '_20': 'I wanted to ask time to her so said: Hi Shikha Whats the time?',\n",
       " '_i21': '\"I answered, its %d %s\"%(3,\"Monday\")',\n",
       " '_21': 'I answered, its 3 Monday',\n",
       " '_i22': 'extsort([\"a.py\",\"gigi.py\",\"carol.c\",\"laila.c\",\"fun.txt\",\"office.txt\",\"notes.txt\"]) #sort files based on extension',\n",
       " '_i23': \"extsort(['a.py','notes.txt','gigi.py','office.txt','carol.c','laila.c','fun.txt']) #sort files based on extension\",\n",
       " '_i24': \"extsort(['a.py','notes.txt','gigi.py','office.txt','carol.c','laila.c','fun.txt']) #sort files based on extension\",\n",
       " '_i25': 'L=range(15)',\n",
       " 'L': range(0, 15),\n",
       " '_i26': 'L',\n",
       " '_26': range(0, 15),\n",
       " '_i27': '[x for x in L]',\n",
       " '_27': [0, 1, 2, 3, 4, 5, 6, 7, 8, 9, 10, 11, 12, 13, 14],\n",
       " '_i28': 'x*x for x in L',\n",
       " '_i29': '[x*x for x in L]',\n",
       " '_29': [0, 1, 4, 9, 16, 25, 36, 49, 64, 81, 100, 121, 144, 169, 196],\n",
       " '_i30': '[x for x in L ifx%2==0]',\n",
       " '_i31': '[x for x in L if(x%2==0)]',\n",
       " '_31': [0, 2, 4, 6, 8, 10, 12, 14],\n",
       " '_i32': 'x*x for x in L',\n",
       " '_i33': 'L1 = [\"Shikha\",\"Gita\",\"Rita\",\"Rama\"]',\n",
       " 'L1': ['Shikha', 'Gita', 'Rita', 'Rama'],\n",
       " '_i34': 'L2 = [1,2,3,4]',\n",
       " 'L2': [1, 2, 3, 4],\n",
       " '_i35': 'zip(L1,L2)',\n",
       " '_35': <zip at 0x105fe94c8>,\n",
       " '_i36': 'L2 = [1,2,3,4] L3=[3,4,5]',\n",
       " '_i37': 'L2 = [1,2,3,4] ,L3=[3,4,5]',\n",
       " '_i38': 'L2 = [1,2,3,4] ',\n",
       " '_i39': 'L3=[3,4,5]',\n",
       " 'L3': [3, 4, 5],\n",
       " '_i40': '[x+y for x,y in zip(L2,L3)]',\n",
       " '_40': [4, 6, 8],\n",
       " '_i41': '[x+y for x in range(10) for y in range(10) if (x+y%2) ==0]',\n",
       " '_41': [0, 2, 4, 6, 8],\n",
       " '_i42': '[x for x in L if(x%2)==0] #using if inside List comprehension',\n",
       " '_42': [0, 2, 4, 6, 8, 10, 12, 14],\n",
       " '_i43': '[x+y for x in range(10) for y in range(10) if (x+y%2) ==0] #multiple for in list comprehension',\n",
       " '_43': [0, 2, 4, 6, 8],\n",
       " '_i44': '[x,y for x in range(10) for y in range(10) if (x+y%2) ==0] #multiple for in list comprehension',\n",
       " '_i45': '[(x,y) for x in range(10) for y in range(10) if (x+y%2) ==0] #multiple for in list comprehension',\n",
       " '_45': [(0, 0), (0, 2), (0, 4), (0, 6), (0, 8)],\n",
       " '_i46': '[(x,y) for x,y in zip([1,2,3],[\"a\",\"b\",\"c\"])]',\n",
       " '_46': [(1, 'a'), (2, 'b'), (3, 'c')],\n",
       " '_i47': '##################### Dictionaries #####################',\n",
       " '_i48': '##################### Dictionaries #####################\\nD1 = {\"x\":1,\"y\":2,\"z\":3}',\n",
       " 'D1': {'x': 1, 'y': 2, 'z': 3},\n",
       " '_i49': 'D1[x]',\n",
       " '_i50': \"D1['x']\",\n",
       " '_50': 1,\n",
       " '_i51': 'D2 ={}',\n",
       " 'D2': {'x': 9, (1, 2): 'you', 'p': 0},\n",
       " '_i52': \"D2['x'] =9\",\n",
       " '_i53': \"D2['x'] \",\n",
       " '_53': 9,\n",
       " '_i54': 'D2[8]=7',\n",
       " '_i55': \"D2[(1,2)]='you'\",\n",
       " '_i56': 'D2',\n",
       " '_56': {'x': 9, (1, 2): 'you', 'p': 0},\n",
       " '_i57': 'del D2[8]',\n",
       " '_i58': 'D2',\n",
       " '_58': {'x': 9, (1, 2): 'you', 'p': 0},\n",
       " '_i59': 'D2.values()',\n",
       " '_59': dict_values([9, 'you', 0]),\n",
       " '_i60': 'D2.items()',\n",
       " '_60': dict_items([('x', 9), ((1, 2), 'you'), ('p', 0)]),\n",
       " '_i61': 'D2.keys()',\n",
       " '_61': dict_keys(['x', (1, 2), 'p']),\n",
       " '_i62': 'D2',\n",
       " '_62': {'x': 9, (1, 2): 'you', 'p': 0},\n",
       " '_i63': 'for key in D2:print key',\n",
       " '_i64': 'for key in D2: print key',\n",
       " '_i65': 'for key in D2: print(key)',\n",
       " 'key': (1, 2),\n",
       " '_i66': \"'x' in D2\",\n",
       " '_66': True,\n",
       " '_i67': 'D2.get(\"x\")',\n",
       " '_67': 9,\n",
       " '_i68': \"D2.setdefault('p',0)\",\n",
       " '_68': 0,\n",
       " '_i69': 'D2',\n",
       " '_69': {'x': 9, (1, 2): 'you', 'p': 0},\n",
       " '_i70': 'D2.setdefault(\"x\",default = \\'None\\')  #return none if x is not found',\n",
       " '_i71': 'D2.setdefault(\"x\",\\'None\\')  #return none if x is not found',\n",
       " '_71': 9,\n",
       " '_i72': 'D2',\n",
       " '_72': {'x': 9, (1, 2): 'you', 'p': 0},\n",
       " '_i73': '\"Hello %(name)s\",{name:\"Shikha\"}',\n",
       " '_i74': '\"Hello %(name)s\",%{name:\"Shikha\"}',\n",
       " '_i75': '\"Hello %(name)s\"%{name:\"Shikha\"}',\n",
       " '_i76': '\"Hello %(name)s\"%{\\'name\\':\"Shikha\"}',\n",
       " '_76': 'Hello Shikha',\n",
       " '_i77': '\"Please study without %(percentage)d %(something)s\"%{\"percentage\":0,\"something\":\"distractions\"}',\n",
       " '_77': 'Please study without 0 distractions',\n",
       " '_i78': '\"Please study without %(percentage)d %(something)s .\"%{\"percentage\":0,\"something\":\"distractions\"}',\n",
       " '_78': 'Please study without 0 distractions .',\n",
       " '_i79': '\"Please study without %(percentage)d %(something)s.\"%{\"percentage\":0,\"something\":\"distractions\"}',\n",
       " '_79': 'Please study without 0 distractions.',\n",
       " '_i80': '\"you should study with %(percent)d %(something)s.\"%{\"percent\":100,\"something\":\"concentration\"}',\n",
       " '_80': 'you should study with 100 concentration.',\n",
       " '_i81': '\"you should study with %(percent)d percent %(something)s.\"%{\"percent\":100,\"something\":\"concentration\"}',\n",
       " '_81': 'you should study with 100 percent concentration.',\n",
       " '_i82': '\"you should study with %(percent)d\"%\" %(something)s.\"%{\"percent\":100,\"something\":\"concentration\"}',\n",
       " '_i83': '\"you should study with %(percent)d \"%\" %(something)s.\"%{\"percent\":100,\"something\":\"concentration\"}',\n",
       " '_i84': '\"you should study with %(percent)d % %(something)s.\"%{\"percent\":100,\"something\":\"concentration\"}',\n",
       " '_i85': '\"you should study with %(percent)dpercent %(something)s.\"%{\"percent\":100,\"something\":\"concentration\"}',\n",
       " '_85': 'you should study with 100percent concentration.',\n",
       " '_i86': '\"you should study with %(percent)d percent %(something)s.\"%{\"percent\":100,\"something\":\"concentration\"}',\n",
       " '_86': 'you should study with 100 percent concentration.',\n",
       " '_i87': 'globals()'}"
      ]
     },
     "execution_count": 87,
     "metadata": {},
     "output_type": "execute_result"
    }
   ],
   "source": [
    "globals() #python stores all variables created in a dictionary"
   ]
  },
  {
   "cell_type": "code",
   "execution_count": 89,
   "metadata": {},
   "outputs": [],
   "source": [
    "def word_frequency(words):\n",
    "    \"\"\"Returns frequency of each word given a list of words.\n",
    "    \n",
    "       >>>word_frequecy(['a','b','a'])\n",
    "       {'a':2,'b':1}\n",
    "    \"\"\"\n",
    "    frequency = {}\n",
    "    for w in words:\n",
    "        frequency[w] = frequency.get(w,0) +1\n",
    "    return frequency\n",
    "\n",
    "def read_words(filename):\n",
    "    return open(filename).read().split()\n",
    "    "
   ]
  },
  {
   "cell_type": "code",
   "execution_count": 92,
   "metadata": {},
   "outputs": [
    {
     "ename": "SyntaxError",
     "evalue": "invalid syntax (<ipython-input-92-ae009b91d469>, line 6)",
     "output_type": "error",
     "traceback": [
      "\u001b[0;36m  File \u001b[0;32m\"<ipython-input-92-ae009b91d469>\"\u001b[0;36m, line \u001b[0;32m6\u001b[0m\n\u001b[0;31m    if__name__ ==\"__main__\":\u001b[0m\n\u001b[0m                            ^\u001b[0m\n\u001b[0;31mSyntaxError\u001b[0m\u001b[0;31m:\u001b[0m invalid syntax\n"
     ]
    }
   ],
   "source": [
    "def main(filename):\n",
    "    frequency = word_frequency(read_words(filename))\n",
    "    for word,count in frequency.items():\n",
    "        print(word,count)\n",
    "        \n",
    "if__name__ ==\"__main__\":\n",
    "    import sys\n",
    "    main(sys.argv[1])"
   ]
  },
  {
   "cell_type": "code",
   "execution_count": 96,
   "metadata": {},
   "outputs": [
    {
     "name": "stdout",
     "output_type": "stream",
     "text": [
      "[0, 1, [3]]\n",
      "[0, 1, [3, 4]]\n",
      "[0, 1, 2]\n"
     ]
    }
   ],
   "source": [
    "#Problem 1 -guess the outputs\n",
    "\n",
    "x = [0, 1, [2]]\n",
    "x[2][0] = 3\n",
    "print(x)\n",
    "x[2].append(4)\n",
    "print(x)\n",
    "x[2] = 2\n",
    "print(x)"
   ]
  },
  {
   "cell_type": "code",
   "execution_count": 113,
   "metadata": {},
   "outputs": [
    {
     "name": "stdout",
     "output_type": "stream",
     "text": [
      "30\n",
      "acatwasundermytable\n"
     ]
    }
   ],
   "source": [
    "#Problem 2&3 - find sum of all elements(ints and string) of list \n",
    "\n",
    "L =[1,2,3,9,8,7]\n",
    "Ls =[\"a\",\"cat\",\"was\",\"under\",\"my\",\"table\"] \n",
    "print(sum(L))\n",
    "#print(sum(int(Ls)))   #sum function does not wrk for strings\n",
    "\n",
    "#make sum work for list of string\n",
    "def sum_string(L):\n",
    "    return(\"\".join(L))\n",
    "\n",
    "print(sum_string(Ls))\n",
    "\n"
   ]
  },
  {
   "cell_type": "code",
   "execution_count": 111,
   "metadata": {},
   "outputs": [
    {
     "ename": "TypeError",
     "evalue": "'list' object cannot be interpreted as an integer",
     "output_type": "error",
     "traceback": [
      "\u001b[0;31m---------------------------------------------------------------------------\u001b[0m",
      "\u001b[0;31mTypeError\u001b[0m                                 Traceback (most recent call last)",
      "\u001b[0;32m<ipython-input-111-8b1236eb968d>\u001b[0m in \u001b[0;36m<module>\u001b[0;34m\u001b[0m\n\u001b[1;32m      3\u001b[0m     \u001b[0;32mfor\u001b[0m \u001b[0mi\u001b[0m \u001b[0;32min\u001b[0m \u001b[0mrange\u001b[0m\u001b[0;34m(\u001b[0m\u001b[0mL\u001b[0m\u001b[0;34m)\u001b[0m\u001b[0;34m:\u001b[0m\u001b[0;34m\u001b[0m\u001b[0;34m\u001b[0m\u001b[0m\n\u001b[1;32m      4\u001b[0m         \u001b[0mL\u001b[0m\u001b[0;34m[\u001b[0m\u001b[0mi\u001b[0m\u001b[0;34m]\u001b[0m\u001b[0;34m*\u001b[0m\u001b[0mL\u001b[0m\u001b[0;34m[\u001b[0m\u001b[0mi\u001b[0m\u001b[0;34m+\u001b[0m\u001b[0;36m1\u001b[0m\u001b[0;34m]\u001b[0m\u001b[0;34m\u001b[0m\u001b[0;34m\u001b[0m\u001b[0m\n\u001b[0;32m----> 5\u001b[0;31m \u001b[0mprint\u001b[0m\u001b[0;34m(\u001b[0m\u001b[0mproduct\u001b[0m\u001b[0;34m(\u001b[0m\u001b[0mL\u001b[0m\u001b[0;34m)\u001b[0m\u001b[0;34m)\u001b[0m\u001b[0;34m\u001b[0m\u001b[0;34m\u001b[0m\u001b[0m\n\u001b[0m",
      "\u001b[0;32m<ipython-input-111-8b1236eb968d>\u001b[0m in \u001b[0;36mproduct\u001b[0;34m(L)\u001b[0m\n\u001b[1;32m      1\u001b[0m \u001b[0;31m#Problem3 - find product of list of numbers\u001b[0m\u001b[0;34m\u001b[0m\u001b[0;34m\u001b[0m\u001b[0;34m\u001b[0m\u001b[0m\n\u001b[1;32m      2\u001b[0m \u001b[0;32mdef\u001b[0m \u001b[0mproduct\u001b[0m\u001b[0;34m(\u001b[0m\u001b[0mL\u001b[0m\u001b[0;34m)\u001b[0m\u001b[0;34m:\u001b[0m\u001b[0;34m\u001b[0m\u001b[0;34m\u001b[0m\u001b[0m\n\u001b[0;32m----> 3\u001b[0;31m     \u001b[0;32mfor\u001b[0m \u001b[0mi\u001b[0m \u001b[0;32min\u001b[0m \u001b[0mrange\u001b[0m\u001b[0;34m(\u001b[0m\u001b[0mL\u001b[0m\u001b[0;34m)\u001b[0m\u001b[0;34m:\u001b[0m\u001b[0;34m\u001b[0m\u001b[0;34m\u001b[0m\u001b[0m\n\u001b[0m\u001b[1;32m      4\u001b[0m         \u001b[0mL\u001b[0m\u001b[0;34m[\u001b[0m\u001b[0mi\u001b[0m\u001b[0;34m]\u001b[0m\u001b[0;34m*\u001b[0m\u001b[0mL\u001b[0m\u001b[0;34m[\u001b[0m\u001b[0mi\u001b[0m\u001b[0;34m+\u001b[0m\u001b[0;36m1\u001b[0m\u001b[0;34m]\u001b[0m\u001b[0;34m\u001b[0m\u001b[0;34m\u001b[0m\u001b[0m\n\u001b[1;32m      5\u001b[0m \u001b[0mprint\u001b[0m\u001b[0;34m(\u001b[0m\u001b[0mproduct\u001b[0m\u001b[0;34m(\u001b[0m\u001b[0mL\u001b[0m\u001b[0;34m)\u001b[0m\u001b[0;34m)\u001b[0m\u001b[0;34m\u001b[0m\u001b[0;34m\u001b[0m\u001b[0m\n",
      "\u001b[0;31mTypeError\u001b[0m: 'list' object cannot be interpreted as an integer"
     ]
    }
   ],
   "source": [
    "#Problem 4 - find product of list of numbers\n",
    "def product(L):\n",
    "    for i in range(L):\n",
    "        L[i]*L[i+1]\n",
    "print(product(L))"
   ]
  },
  {
   "cell_type": "code",
   "execution_count": null,
   "metadata": {},
   "outputs": [],
   "source": []
  }
 ],
 "metadata": {
  "kernelspec": {
   "display_name": "Python 3",
   "language": "python",
   "name": "python3"
  },
  "language_info": {
   "codemirror_mode": {
    "name": "ipython",
    "version": 3
   },
   "file_extension": ".py",
   "mimetype": "text/x-python",
   "name": "python",
   "nbconvert_exporter": "python",
   "pygments_lexer": "ipython3",
   "version": "3.7.1"
  }
 },
 "nbformat": 4,
 "nbformat_minor": 2
}
