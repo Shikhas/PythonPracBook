{
 "cells": [
  {
   "cell_type": "code",
   "execution_count": 6,
   "metadata": {},
   "outputs": [
    {
     "name": "stdout",
     "output_type": "stream",
     "text": [
      "with return\n",
      "with return\n",
      "False\n",
      "without return\n",
      "without return\n",
      "None\n"
     ]
    }
   ],
   "source": [
    "def is_even_with_return( i ):\n",
    "    \"\"\" \n",
    "    Input: i, a positive int\n",
    "    Returns true if i is even, otherwise it returns false\n",
    "    \"\"\"\n",
    "    print('with return')\n",
    "    remainder = i % 2\n",
    "    return remainder == 0\n",
    "\n",
    "is_even_with_return(4) \n",
    "print(is_even_with_return(5) )\n",
    "\n",
    "def is_even_without_return( i ):\n",
    "    \"\"\" \n",
    "    Input: i, a positive int\n",
    "    It does not have any return so it returns None\n",
    "    \"\"\"\n",
    "    print('without return')\n",
    "\n",
    "is_even_without_return(6)\n",
    "print(is_even_without_return(7) )\n",
    "\n",
    "\n",
    "\n",
    "# To visualize we can use Python Tutor with following link:\n",
    "\n",
    "# http://www.pythontutor.com/visualize.html#code=def%20is_even_with_return(%20i%20%29%3A%0A%20%20%20%20%22%22%22%20%0A%20%20%20%20Input%3A%20i,%20a%20positive%20int%0A%20%20%20%20Returns%20True%20if%20i%20is%20even,%20otherwise%20False%0A%20%20%20%20%22%22%22%0A%20%20%20%20print('with%20return'%29%0A%20%20%20%20remainder%20%3D%20i%20%25%202%0A%20%20%20%20return%20remainder%20%3D%3D%200%0A%0Ais_even_with_return(3%29%20%0Aprint(is_even_with_return(3%29%20%29%0A%0Adef%20is_even_without_return(%20i%20%29%3A%0A%20%20%20%20%22%22%22%20%0A%20%20%20%20Input%3A%20i,%20a%20positive%20int%0A%20%20%20%20Does%20not%20return%20anything%0A%20%20%20%20%22%22%22%0A%20%20%20%20print('without%20return'%29%0A%0Ais_even_without_return(3%29%0Aprint(is_even_without_return(3%29%20%29%0A&cumulative=false&curInstr=0&heapPrimitives=false&mode=display&origin=opt-frontend.js&py=3&rawInputLstJSON=%5B%5D&textReferences=false\n",
    "\n",
    "\n"
   ]
  },
  {
   "cell_type": "code",
   "execution_count": 12,
   "metadata": {},
   "outputs": [
    {
     "name": "stdout",
     "output_type": "stream",
     "text": [
      "All members between 0 and 20 : even or not\n",
      "0 even\n",
      "1 odd\n",
      "2 even\n",
      "3 odd\n",
      "4 even\n",
      "5 odd\n",
      "6 even\n",
      "7 odd\n",
      "8 even\n",
      "9 odd\n",
      "10 even\n",
      "11 odd\n",
      "12 even\n",
      "13 odd\n",
      "14 even\n",
      "15 odd\n",
      "16 even\n",
      "17 odd\n",
      "18 even\n",
      "19 odd\n"
     ]
    }
   ],
   "source": [
    "def is_even(i):\n",
    "    \"\"\"\n",
    "    function to get an integer as even or not\n",
    "    \"\"\"\n",
    "    rem = i%2\n",
    "    if rem == 0:\n",
    "        return \"even\"\n",
    "    else:\n",
    "        return \"odd\"\n",
    "\n",
    "print(\"All members between 0 and 20 : even or not\")\n",
    "for i in range(20):\n",
    "    print(i,is_even(i))"
   ]
  },
  {
   "cell_type": "code",
   "execution_count": null,
   "metadata": {},
   "outputs": [],
   "source": []
  },
  {
   "cell_type": "code",
   "execution_count": null,
   "metadata": {},
   "outputs": [],
   "source": []
  }
 ],
 "metadata": {
  "kernelspec": {
   "display_name": "Python 3",
   "language": "python",
   "name": "python3"
  },
  "language_info": {
   "codemirror_mode": {
    "name": "ipython",
    "version": 3
   },
   "file_extension": ".py",
   "mimetype": "text/x-python",
   "name": "python",
   "nbconvert_exporter": "python",
   "pygments_lexer": "ipython3",
   "version": "3.7.1"
  }
 },
 "nbformat": 4,
 "nbformat_minor": 2
}
